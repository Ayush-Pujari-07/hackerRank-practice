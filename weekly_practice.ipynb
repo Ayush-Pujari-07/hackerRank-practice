{
 "cells": [
  {
   "cell_type": "markdown",
   "metadata": {},
   "source": [
    "# Plus Minus"
   ]
  },
  {
   "cell_type": "code",
   "execution_count": null,
   "metadata": {},
   "outputs": [],
   "source": [
    "#!/bin/python3\n",
    "import math\n",
    "import os\n",
    "import random\n",
    "import re\n",
    "import sys\n",
    "\n",
    "#\n",
    "# Complete the 'plusMinus' function below.\n",
    "#\n",
    "# The function accepts INTEGER_ARRAY arr as parameter.\n",
    "#\n",
    "\n",
    "\n",
    "def plusMinus(arr, arry_len):\n",
    "    # Write your code here\n",
    "    positive_count = 0\n",
    "    negative_count = 0\n",
    "    zero_count = 0\n",
    "    for number in arr:\n",
    "        if number >= -100 and number <= 100:\n",
    "            if number > 0:\n",
    "                # print(\"+1\")\n",
    "                positive_count = positive_count + 1\n",
    "            elif number < 0:\n",
    "                # print(\"-1\")\n",
    "                negative_count = negative_count + 1\n",
    "            else:\n",
    "                # print(\"0\")\n",
    "                zero_count = zero_count + 1\n",
    "\n",
    "    print(round(number=positive_count/arry_len, ndigits=6))\n",
    "    print(round(number=negative_count/arry_len, ndigits=6))\n",
    "    print(round(number=zero_count/arry_len, ndigits=6))\n",
    "\n",
    "\n",
    "if __name__ == '__main__':\n",
    "    n = int(input().strip())\n",
    "\n",
    "    arr = list(map(int, input().rstrip().split()))\n",
    "\n",
    "    plusMinus(arr, n)"
   ]
  },
  {
   "cell_type": "markdown",
   "metadata": {},
   "source": [
    "# Min Max Sum"
   ]
  },
  {
   "cell_type": "code",
   "execution_count": null,
   "metadata": {},
   "outputs": [],
   "source": [
    "#!/bin/python3\n",
    "\n",
    "import math\n",
    "import os\n",
    "import random\n",
    "import re\n",
    "import sys\n",
    "\n",
    "#\n",
    "# Complete the 'miniMaxSum' function below.\n",
    "#\n",
    "# The function accepts INTEGER_ARRAY arr as parameter.\n",
    "#\n",
    "\n",
    "def miniMaxSum(arr):\n",
    "    # Write your code here\n",
    "    sorted_arr = sorted(arr)\n",
    "    print(f\"{sum(sorted_arr[:-1])} {sum(sorted_arr[1:])}\")\n",
    "    \n",
    "\n",
    "if __name__ == '__main__':\n",
    "\n",
    "    arr = list(map(int, input().rstrip().split()))\n",
    "\n",
    "    miniMaxSum(arr)\n"
   ]
  },
  {
   "cell_type": "markdown",
   "metadata": {},
   "source": [
    "# Time conversion"
   ]
  },
  {
   "cell_type": "code",
   "execution_count": null,
   "metadata": {},
   "outputs": [],
   "source": [
    "#!/bin/python3\n",
    "\n",
    "import math\n",
    "import os\n",
    "import random\n",
    "import re\n",
    "import sys\n",
    "\n",
    "#\n",
    "# Compinput_tmeete the 'timeConversion' function beinput_tmeow.\n",
    "#\n",
    "# The function is expected to return a STRING.\n",
    "# The function accepts STRING s as parameter.\n",
    "#\n",
    "\n",
    "\n",
    "def timeConversion(input_tme):\n",
    "    # Write your code here\n",
    "    if input_tme.upper().endswith(\"PM\") and int(input_tme[:2]) < 12:\n",
    "        return (\"{}:{}:{}\".format(int(input_tme[:2])+12,\n",
    "                                  input_tme.split(\":\")[1], input_tme.split(':')[2][:2]))\n",
    "    elif input_tme.upper().endswith(\"AM\") and int(input_tme[:2]) == 12:\n",
    "        return (\"00:{}:{}\".format(input_tme.split(\":\")[1], input_tme.split(':')[2][:2]))\n",
    "    elif input_tme.upper().endswith(\"PM\") and int(input_tme[:2]) == 12:\n",
    "        return (\"12:{}:{}\".format(input_tme.split(\":\")[1], input_tme.split(':')[2][:2]))\n",
    "    else:\n",
    "        return (\"{}:{}:{}\".format(input_tme.split(\":\")[0],\n",
    "                                  input_tme.split(\":\")[1], input_tme.split(':')[2][:2]))\n",
    "\n",
    "\n",
    "if __name__ == '__main__':\n",
    "    # fptr = open(os.environ['OUTPUT_PATH'], 'w')\n",
    "\n",
    "    s = input()\n",
    "\n",
    "    result = timeConversion(s)\n",
    "\n",
    "    # fptr.write(result + '\\n')\n",
    "\n",
    "    # fptr.close()\n",
    "\n",
    "    print(result)"
   ]
  },
  {
   "cell_type": "markdown",
   "metadata": {},
   "source": [
    "# Fizz Buzz"
   ]
  },
  {
   "cell_type": "code",
   "execution_count": null,
   "metadata": {},
   "outputs": [],
   "source": [
    "#!/bin/python3\n",
    "\n",
    "import math\n",
    "import os\n",
    "import random\n",
    "import re\n",
    "import sys\n",
    "\n",
    "\n",
    "#\n",
    "# Complete the 'fizzBuzz' function below.\n",
    "#\n",
    "# The function accepts INTEGER n as parameter.\n",
    "#\n",
    "\n",
    "def fizzBuzz(n):\n",
    "    # Write your code here\n",
    "    if 0 <= n <= 2*10**5:\n",
    "        for i in range(1, n+1):\n",
    "            if i % 3 == 0 and i % 5 == 0:\n",
    "                print(\"FizzBuzz\")\n",
    "            elif i % 3 == 0 and i % 5 != 0:\n",
    "                print(\"Fizz\")\n",
    "            elif i % 3 != 0 and i % 5 == 0:\n",
    "                print(\"Buzz\")\n",
    "            else:\n",
    "                print(i)\n",
    "\n",
    "\n",
    "if __name__ == '__main__':\n",
    "    n = int(input().strip())\n",
    "\n",
    "    fizzBuzz(n)"
   ]
  },
  {
   "cell_type": "markdown",
   "metadata": {},
   "source": [
    "# Find Median"
   ]
  },
  {
   "cell_type": "code",
   "execution_count": null,
   "metadata": {},
   "outputs": [],
   "source": [
    "#!/bin/python3\n",
    "\n",
    "import math\n",
    "import os\n",
    "import random\n",
    "import re\n",
    "import sys\n",
    "\n",
    "\n",
    "\n",
    "#\n",
    "# Complete the 'findMedian' function below.\n",
    "#\n",
    "# The function is expected to return an INTEGER.\n",
    "# The function accepts INTEGER_ARRAY arr as parameter.\n",
    "#\n",
    "\n",
    "def findMedian(arr):\n",
    "    # Write your code here\\\n",
    "    sorted_arr = sorted(arr)\n",
    "    length = len(sorted_arr)\n",
    "    if length%2 == 0:\n",
    "        print(sorted_arr[int(length/2):int(length/2)+1])\n",
    "    else:\n",
    "        print(sorted_arr[math.floor(length/2)+1])\n",
    "if __name__ == '__main__':\n",
    "\n",
    "    arr = list(map(int, input().rstrip().split()))\n",
    "\n",
    "    findMedian(arr)"
   ]
  },
  {
   "cell_type": "markdown",
   "metadata": {},
   "source": [
    "# Lonly Integer"
   ]
  },
  {
   "cell_type": "code",
   "execution_count": null,
   "metadata": {},
   "outputs": [],
   "source": [
    "#!/bin/python3\n",
    "\n",
    "import math\n",
    "import os\n",
    "import random\n",
    "import re\n",
    "import sys\n",
    "\n",
    "#\n",
    "# Complete the 'lonelyinteger' function below.\n",
    "#\n",
    "# The function is expected to return an INTEGER.\n",
    "# The function accepts INTEGER_ARRAY a as parameter.\n",
    "#\n",
    "\n",
    "def lonelyinteger(a):\n",
    "    # Write your code here\n",
    "    sorted_arr = sorted(a)\n",
    "    unique_arr = set(sorted_arr)\n",
    "    # return [item for item in unique_arr if sorted_arr.count(\n",
    "    # item) == 1 and sorted_arr[-1] < 100 and sorted_arr[0] > 0]\n",
    "    for item in unique_arr:\n",
    "        if sorted_arr.count(item) == 1 and sorted_arr[-1] < 100 and sorted_arr[0] >= 0:\n",
    "            return (item)\n",
    "\n",
    "if __name__ == '__main__':\n",
    "    fptr = open(os.environ['OUTPUT_PATH'], 'w')\n",
    "\n",
    "    n = int(input().strip())\n",
    "\n",
    "    a = list(map(int, input().rstrip().split()))\n",
    "\n",
    "    result = lonelyinteger(a)\n",
    "\n",
    "    fptr.write(str(result) + '\\n')\n",
    "\n",
    "    fptr.close()\n"
   ]
  },
  {
   "cell_type": "markdown",
   "metadata": {},
   "source": [
    "# Diagonal Difference"
   ]
  },
  {
   "cell_type": "code",
   "execution_count": null,
   "metadata": {},
   "outputs": [],
   "source": [
    "#!/bin/python3\n",
    "\n",
    "import math\n",
    "import os\n",
    "import random\n",
    "import re\n",
    "import sys\n",
    "\n",
    "#\n",
    "# Complete the 'diagonalDifference' function below.\n",
    "#\n",
    "# The function is expected to return an INTEGER.\n",
    "# The function accepts 2D_INTEGER_ARRAY arr as parameter.\n",
    "#\n",
    "\n",
    "\n",
    "def diagonalDifference(arr):\n",
    "    # Write your code here\n",
    "    sum_primary_diagonal = 0\n",
    "    sum_secondary_diagonal = 0\n",
    "    for i in range(n):\n",
    "        if (arr[i][i] <= 100 and arr[i][i] >= -100) or (arr[i][-(i+1)] <= 100 and arr[i][-(i+1)] >= -100):\n",
    "            sum_primary_diagonal = sum_primary_diagonal + arr[i][i]\n",
    "            sum_secondary_diagonal = sum_secondary_diagonal + arr[i][-(i+1)]\n",
    "\n",
    "    return abs(sum_primary_diagonal - sum_secondary_diagonal)\n",
    "\n",
    "\n",
    "if __name__ == '__main__':\n",
    "    # fptr = open(os.environ['OUTPUT_PATH'], 'w')\n",
    "\n",
    "    n = int(input().strip())\n",
    "\n",
    "    arr = []\n",
    "\n",
    "    for _ in range(n):\n",
    "        arr.append(list(map(int, input().rstrip().split())))\n",
    "\n",
    "    result = diagonalDifference(arr)\n",
    "    print(result)\n",
    "    # fptr.write(str(result) + '\\n')\n",
    "\n",
    "    # fptr.close()"
   ]
  },
  {
   "cell_type": "markdown",
   "metadata": {},
   "source": [
    "# countind Short"
   ]
  },
  {
   "cell_type": "code",
   "execution_count": null,
   "metadata": {},
   "outputs": [],
   "source": [
    "#!/bin/python3\n",
    "\n",
    "import math\n",
    "import os\n",
    "import random\n",
    "import re\n",
    "import sys\n",
    "\n",
    "#\n",
    "# Complete the 'countingSort' function below.\n",
    "#\n",
    "# The function is expected to return an INTEGER_ARRAY.\n",
    "# The function accepts INTEGER_ARRAY arr as parameter.\n",
    "#\n",
    "\n",
    "def countingSort(arr, n):\n",
    "    # Write your code here\n",
    "    sorted_arr = sorted(arr)\n",
    "    if n >= 100 and n <= 10**6:\n",
    "        return [sorted_arr.count(i) for i in range(n) if 0<=i<100]\n",
    "\n",
    "if __name__ == '__main__':\n",
    "    fptr = open(os.environ['OUTPUT_PATH'], 'w')\n",
    "\n",
    "    n = int(input().strip())\n",
    "\n",
    "    arr = list(map(int, input().rstrip().split()))\n",
    "\n",
    "    result = countingSort(arr, n)\n",
    "\n",
    "    fptr.write(' '.join(map(str, result)))\n",
    "    fptr.write('\\n')\n",
    "\n",
    "    fptr.close()\n"
   ]
  },
  {
   "cell_type": "markdown",
   "metadata": {},
   "source": [
    "# Fliping matrix"
   ]
  },
  {
   "cell_type": "code",
   "execution_count": null,
   "metadata": {},
   "outputs": [],
   "source": [
    "#!/bin/python3\n",
    "\n",
    "import math\n",
    "import os\n",
    "import random\n",
    "import re\n",
    "import sys\n",
    "\n",
    "\n",
    "\n",
    "#\n",
    "# Complete the 'flippingMatrix' function below.\n",
    "#\n",
    "# The function is expected to return an INTEGER.\n",
    "# The function accepts 2D_INTEGER_ARRAY matrix as parameter.\n",
    "#\n",
    "\n",
    "def flippingMatrix(matrix):\n",
    "    # Write your code here\n",
    "    # column reversing\n",
    "    temp_matrix = []\n",
    "    for i in matrix:\n",
    "        print(i)\n",
    "        temp_matrix.append(i[int(n/2)])\n",
    "    temp_matrix.reverse()\n",
    "    for i in range(len(matrix)):\n",
    "        matrix[i][int(n/2)] = temp_matrix[i]\n",
    "\n",
    "    # row reversing\n",
    "    matrix[int(q-1)].reverse()\n",
    "\n",
    "    # adding values in left quadrent\n",
    "    left_quadrent_sum = 0\n",
    "    for i in range(int(n/2)):\n",
    "        for j in range(int(n/2)):\n",
    "            left_quadrent_sum = left_quadrent_sum + matrix[i][j]\n",
    "\n",
    "if __name__ == '__main__':\n",
    "    fptr = open(os.environ['OUTPUT_PATH'], 'w')\n",
    "\n",
    "    q = int(input().strip())\n",
    "\n",
    "    for q_itr in range(q):\n",
    "        n = int(input().strip())\n",
    "\n",
    "        matrix = []\n",
    "\n",
    "        for _ in range(2 * n):\n",
    "            matrix.append(list(map(int, input().rstrip().split())))\n",
    "\n",
    "        result = flippingMatrix(matrix)\n",
    "\n",
    "        fptr.write(str(result) + '\\n')\n",
    "\n",
    "    fptr.close()\n"
   ]
  },
  {
   "cell_type": "code",
   "execution_count": null,
   "metadata": {},
   "outputs": [],
   "source": [
    "\"\"\"Sean invented a game involving a matrix where each cell of the matrix contains an integer. He\n",
    "can reverse any of its rows or columns any number of times. The goal of the game is to maximize the sum\n",
    "of the elements in the submatrix located in the upper-left quadrant of the matrix.\n",
    "Given the initial configurations for matrices, help Sean reverse the rows and columns of each matrix in the\n",
    "best possible way so that the sum of the elements in the matrix's upper-left quadrant is maximal.\n",
    "\"\"\""
   ]
  },
  {
   "cell_type": "code",
   "execution_count": 4,
   "metadata": {},
   "outputs": [],
   "source": [
    "n = 2\n",
    "q = 1\n",
    "matrix = [[107, 54, 128, 15], [12, 75, 110, 138],\n",
    "          [100, 96, 34, 85], [75, 15, 28, 112]]\n",
    "\n",
    "\n",
    "def flippingMatrix(matrix, n, q):\n",
    "    # column reversing\n",
    "    temp_matrix = []\n",
    "    for i in matrix:\n",
    "        print(i)\n",
    "        temp_matrix.append(i[int(n)])\n",
    "    temp_matrix.reverse()\n",
    "    for i in range(len(matrix)):\n",
    "        matrix[i][int(n)] = temp_matrix[i]\n",
    "\n",
    "    # row reversing\n",
    "    matrix[int(q)].reverse()\n",
    "\n",
    "    left_quadrent_sum = 0\n",
    "    for i in range(int(n)):\n",
    "        for j in range(int(n)):\n",
    "            left_quadrent_sum = left_quadrent_sum + matrix[i][j]\n",
    "\n",
    "    print(left_quadrent_sum)"
   ]
  },
  {
   "cell_type": "markdown",
   "metadata": {},
   "source": [
    "# Tower BReaker"
   ]
  },
  {
   "cell_type": "code",
   "execution_count": null,
   "metadata": {},
   "outputs": [],
   "source": [
    "#!/bin/python3\n",
    "\n",
    "import math\n",
    "import os\n",
    "import random\n",
    "import re\n",
    "import sys\n",
    "\n",
    "#\n",
    "# Complete the 'towerBreakers' function below.\n",
    "#\n",
    "# The function is expected to return an INTEGER.\n",
    "# The function accepts following parameters:\n",
    "#  1. INTEGER n\n",
    "#  2. INTEGER m\n",
    "#\n",
    "\n",
    "def towerBreakers(n, m):\n",
    "    # Write your code here\n",
    "\n",
    "if __name__ == '__main__':\n",
    "    fptr = open(os.environ['OUTPUT_PATH'], 'w')\n",
    "\n",
    "    t = int(input().strip())\n",
    "\n",
    "    for t_itr in range(t):\n",
    "        first_multiple_input = input().rstrip().split()\n",
    "\n",
    "        n = int(first_multiple_input[0])\n",
    "\n",
    "        m = int(first_multiple_input[1])\n",
    "\n",
    "        result = towerBreakers(n, m)\n",
    "\n",
    "        fptr.write(str(result) + '\\n')\n",
    "\n",
    "    fptr.close()\n"
   ]
  },
  {
   "cell_type": "code",
   "execution_count": 1,
   "metadata": {},
   "outputs": [],
   "source": [
    "n = 2  # number of towers\n",
    "m = 6  # height of towers"
   ]
  },
  {
   "cell_type": "code",
   "execution_count": 12,
   "metadata": {},
   "outputs": [
    {
     "name": "stdout",
     "output_type": "stream",
     "text": [
      "8\n",
      "[3, 2, 6, 7, 8, 9, 4, 3, 2]\n",
      "[2, 2, 3, 3, 4, 6, 7, 8, 9]\n",
      "5 7\n",
      "6 4\n",
      "7 9\n"
     ]
    },
    {
     "ename": "IndexError",
     "evalue": "list index out of range",
     "output_type": "error",
     "traceback": [
      "\u001b[1;31m---------------------------------------------------------------------------\u001b[0m",
      "\u001b[1;31mIndexError\u001b[0m                                Traceback (most recent call last)",
      "Cell \u001b[1;32mIn[12], line 32\u001b[0m\n\u001b[0;32m     30\u001b[0m a \u001b[38;5;241m=\u001b[39m \u001b[38;5;28mlist\u001b[39m(\u001b[38;5;28mmap\u001b[39m(\u001b[38;5;28mint\u001b[39m, \u001b[38;5;28minput\u001b[39m()\u001b[38;5;241m.\u001b[39msplit()))\n\u001b[0;32m     31\u001b[0m \u001b[38;5;28mprint\u001b[39m(a)\n\u001b[1;32m---> 32\u001b[0m findZigZagSequence(a, n)\n",
      "Cell \u001b[1;32mIn[12], line 13\u001b[0m, in \u001b[0;36mfindZigZagSequence\u001b[1;34m(a, n)\u001b[0m\n\u001b[0;32m     11\u001b[0m \u001b[38;5;28mprint\u001b[39m(st, ed)\n\u001b[0;32m     12\u001b[0m \u001b[38;5;28;01mwhile\u001b[39;00m (st \u001b[38;5;241m<\u001b[39m\u001b[38;5;241m=\u001b[39m ed):\n\u001b[1;32m---> 13\u001b[0m     \u001b[38;5;28mprint\u001b[39m(a[st], a[ed])\n\u001b[0;32m     14\u001b[0m     a[st], a[ed] \u001b[38;5;241m=\u001b[39m a[ed], a[st]\n\u001b[0;32m     15\u001b[0m     st \u001b[38;5;241m=\u001b[39m st \u001b[38;5;241m+\u001b[39m \u001b[38;5;241m1\u001b[39m\n",
      "\u001b[1;31mIndexError\u001b[0m: list index out of range"
     ]
    }
   ],
   "source": [
    "def findZigZagSequence(a, n):\n",
    "    a.sort()\n",
    "    print(a)\n",
    "    mid = int((n + 1)/2)\n",
    "    # print(mid)\n",
    "    # print(a[mid], a[n-1])\n",
    "    a[mid], a[n-1] = a[n-1], a[mid]\n",
    "\n",
    "    st = mid + 1\n",
    "    ed = n - 1\n",
    "    while (st <= ed):\n",
    "        print(a[st], a[ed])\n",
    "        a[st], a[ed] = a[ed], a[st]\n",
    "        st = st + 1\n",
    "        ed = ed + 1\n",
    "\n",
    "    for i in range(n):\n",
    "        if i == n-1:\n",
    "            print(a[i])\n",
    "        else:\n",
    "            print(a[i], end=' ')\n",
    "    return\n",
    "\n",
    "\n",
    "test_cases = int(input())\n",
    "for cs in range(test_cases):\n",
    "    n = int(input())\n",
    "    print(n)\n",
    "    a = list(map(int, input().split()))\n",
    "    print(a)\n",
    "    findZigZagSequence(a, n)"
   ]
  },
  {
   "cell_type": "code",
   "execution_count": 17,
   "metadata": {},
   "outputs": [],
   "source": [
    "a = [3, 2, 6, 7, 8, 9, 4, 3, 2]\n",
    "n = 8"
   ]
  },
  {
   "cell_type": "code",
   "execution_count": 18,
   "metadata": {},
   "outputs": [
    {
     "data": {
      "text/plain": [
       "[2, 2, 3, 3, 4, 6, 7, 8, 9]"
      ]
     },
     "execution_count": 18,
     "metadata": {},
     "output_type": "execute_result"
    }
   ],
   "source": [
    "a.sort()\n",
    "a"
   ]
  },
  {
   "cell_type": "code",
   "execution_count": 19,
   "metadata": {},
   "outputs": [
    {
     "data": {
      "text/plain": [
       "6"
      ]
     },
     "execution_count": 19,
     "metadata": {},
     "output_type": "execute_result"
    }
   ],
   "source": [
    "a[int((n+1)/2)+1]"
   ]
  },
  {
   "cell_type": "code",
   "execution_count": 20,
   "metadata": {},
   "outputs": [
    {
     "data": {
      "text/plain": [
       "8"
      ]
     },
     "execution_count": 20,
     "metadata": {},
     "output_type": "execute_result"
    }
   ],
   "source": [
    "a[n-1]"
   ]
  },
  {
   "cell_type": "code",
   "execution_count": null,
   "metadata": {},
   "outputs": [],
   "source": []
  }
 ],
 "metadata": {
  "kernelspec": {
   "display_name": "base",
   "language": "python",
   "name": "python3"
  },
  "language_info": {
   "codemirror_mode": {
    "name": "ipython",
    "version": 3
   },
   "file_extension": ".py",
   "mimetype": "text/x-python",
   "name": "python",
   "nbconvert_exporter": "python",
   "pygments_lexer": "ipython3",
   "version": "3.11.3"
  }
 },
 "nbformat": 4,
 "nbformat_minor": 2
}
